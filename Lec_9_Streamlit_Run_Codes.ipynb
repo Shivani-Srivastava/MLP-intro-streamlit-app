{
  "nbformat": 4,
  "nbformat_minor": 0,
  "metadata": {
    "colab": {
      "name": "Lec-9 Streamlit Run Codes.ipynb",
      "provenance": [],
      "collapsed_sections": [],
      "include_colab_link": true
    },
    "kernelspec": {
      "name": "python3",
      "display_name": "Python 3"
    },
    "language_info": {
      "name": "python"
    }
  },
  "cells": [
    {
      "cell_type": "markdown",
      "metadata": {
        "id": "view-in-github",
        "colab_type": "text"
      },
      "source": [
        "<a href=\"https://colab.research.google.com/github/Shivani-Srivastava/MLP-intro-streamlit-app/blob/main/Lec_9_Streamlit_Run_Codes.ipynb\" target=\"_parent\"><img src=\"https://colab.research.google.com/assets/colab-badge.svg\" alt=\"Open In Colab\"/></a>"
      ]
    },
    {
      "cell_type": "markdown",
      "metadata": {
        "id": "BQG1Gy0pRvUK"
      },
      "source": [
        "### Step 0: Prerequisite\n",
        "\n",
        "Get your Authentication Tokens from Ngrok and save it in a notebook. You need it later to run app.\n",
        "\n",
        "\n",
        "1.   Go to https://dashboard.ngrok.com/get-started/setup signup for free\n",
        "2.   Once you are logged in go to https://dashboard.ngrok.com/get-started/your-authtoken and copy+paste token and save it for later use.\n",
        "\n",
        "**NOTE:**  *If you already have auth token the you can skip above steps and use that token*\n",
        "\n",
        "\n"
      ]
    },
    {
      "cell_type": "markdown",
      "metadata": {
        "id": "qNdB8XkqQ3b8"
      },
      "source": [
        "### Step 1: Setup Chunk"
      ]
    },
    {
      "cell_type": "markdown",
      "metadata": {
        "id": "7xPqfXcoT-B0"
      },
      "source": [
        "#### Step 1.1: Install dependencies"
      ]
    },
    {
      "cell_type": "code",
      "metadata": {
        "id": "gWgIAluNQmoJ",
        "colab": {
          "base_uri": "https://localhost:8080/"
        },
        "outputId": "6e1d418d-96d4-4da5-c3ec-860e36efd1de"
      },
      "source": [
        "!pip install -q -r https://raw.githubusercontent.com/yogesh1612/MLP-intro-streamlit-app/main/requirements.txt"
      ],
      "execution_count": 1,
      "outputs": [
        {
          "output_type": "stream",
          "name": "stdout",
          "text": [
            "\u001b[K     |████████████████████████████████| 9.9 MB 23.0 MB/s \n",
            "\u001b[33mWARNING: Retrying (Retry(total=4, connect=None, read=None, redirect=None, status=None)) after connection broken by 'ProtocolError('Connection aborted.', ConnectionResetError(104, 'Connection reset by peer'))': /simple/mglearn/\u001b[0m\n",
            "\u001b[K     |████████████████████████████████| 540 kB 62.2 MB/s \n",
            "\u001b[K     |████████████████████████████████| 745 kB 57.3 MB/s \n",
            "\u001b[K     |████████████████████████████████| 2.0 MB 54.5 MB/s \n",
            "\u001b[K     |████████████████████████████████| 37.2 MB 1.3 MB/s \n",
            "\u001b[K     |████████████████████████████████| 867 kB 50.3 MB/s \n",
            "\u001b[K     |████████████████████████████████| 49 kB 6.3 MB/s \n",
            "\u001b[K     |████████████████████████████████| 3.6 MB 45.7 MB/s \n",
            "\u001b[K     |████████████████████████████████| 71 kB 9.7 MB/s \n",
            "\u001b[K     |████████████████████████████████| 76 kB 5.6 MB/s \n",
            "\u001b[K     |████████████████████████████████| 181 kB 59.6 MB/s \n",
            "\u001b[K     |████████████████████████████████| 164 kB 59.7 MB/s \n",
            "\u001b[K     |████████████████████████████████| 111 kB 63.2 MB/s \n",
            "\u001b[K     |████████████████████████████████| 4.3 MB 47.8 MB/s \n",
            "\u001b[K     |████████████████████████████████| 269 kB 75.1 MB/s \n",
            "\u001b[K     |████████████████████████████████| 63 kB 2.3 MB/s \n",
            "\u001b[K     |████████████████████████████████| 128 kB 57.0 MB/s \n",
            "\u001b[K     |████████████████████████████████| 793 kB 34.2 MB/s \n",
            "\u001b[K     |████████████████████████████████| 380 kB 72.1 MB/s \n",
            "\u001b[?25h  Building wheel for mglearn (setup.py) ... \u001b[?25l\u001b[?25hdone\n",
            "  Building wheel for pyngrok (setup.py) ... \u001b[?25l\u001b[?25hdone\n",
            "  Building wheel for blinker (setup.py) ... \u001b[?25l\u001b[?25hdone\n",
            "\u001b[31mERROR: pip's dependency resolver does not currently take into account all the packages that are installed. This behaviour is the source of the following dependency conflicts.\n",
            "tensorflow 2.8.0 requires tf-estimator-nightly==2.8.0.dev2021122109, which is not installed.\n",
            "jupyter-console 5.2.0 requires prompt-toolkit<2.0.0,>=1.0.0, but you have prompt-toolkit 3.0.28 which is incompatible.\n",
            "google-colab 1.0.0 requires ipykernel~=4.10, but you have ipykernel 6.9.1 which is incompatible.\n",
            "google-colab 1.0.0 requires ipython~=5.5.0, but you have ipython 7.32.0 which is incompatible.\u001b[0m\n"
          ]
        }
      ]
    },
    {
      "cell_type": "markdown",
      "metadata": {
        "id": "13c4QWpNUfS4"
      },
      "source": [
        "#### Step 1.2: Replace XXXXXX with your ngrok token"
      ]
    },
    {
      "cell_type": "code",
      "metadata": {
        "id": "7neNSqiBUaNX",
        "outputId": "284bac2a-35ee-47e4-b4f1-d9804a7e11c4",
        "colab": {
          "base_uri": "https://localhost:8080/"
        }
      },
      "source": [
        "!ngrok authtoken 1zhxaTsQbscraEmElzKo9xuM3Uv_3s2a5YB1mMNkNqzwF1uER"
      ],
      "execution_count": 2,
      "outputs": [
        {
          "output_type": "stream",
          "name": "stdout",
          "text": [
            "Authtoken saved to configuration file: /root/.ngrok2/ngrok.yml\n"
          ]
        }
      ]
    },
    {
      "cell_type": "markdown",
      "metadata": {
        "id": "DkIJ48N-W7ex"
      },
      "source": [
        "\n",
        "\n",
        "---\n",
        "\n",
        "### App-1 Intro to MLP-Streamlit App\n",
        "\n",
        "---\n",
        "\n"
      ]
    },
    {
      "cell_type": "code",
      "metadata": {
        "id": "FGUwJucaVP3h",
        "colab": {
          "base_uri": "https://localhost:8080/"
        },
        "outputId": "946cf08b-63cf-4f77-c389-48a54c8a60f3"
      },
      "source": [
        "from pyngrok import ngrok\n",
        "public_url = ngrok.connect(port='80',bind_tls=True)\n",
        "print (public_url)\n",
        "!streamlit run --server.port 80 https://raw.githubusercontent.com/yogesh1612/MLP-intro-streamlit-app/main/MLP_intro.py >/dev/null"
      ],
      "execution_count": 3,
      "outputs": [
        {
          "output_type": "stream",
          "name": "stdout",
          "text": [
            "NgrokTunnel: \"https://bb35-35-245-146-200.ngrok.io\" -> \"http://localhost:80\"\n",
            "2022-03-10 05:08:22.457 INFO    numexpr.utils: NumExpr defaulting to 2 threads.\n",
            "2022-03-10 05:08:59.447 InMemoryFileManager: Missing file eafbfbdbcf7ed120d7b27330316662d874be076f431b36352bd20934.png\n",
            "/usr/local/lib/python3.7/dist-packages/sklearn/neural_network/_multilayer_perceptron.py:549: ConvergenceWarning: lbfgs failed to converge (status=1):\n",
            "STOP: TOTAL NO. of ITERATIONS REACHED LIMIT.\n",
            "\n",
            "Increase the number of iterations (max_iter) or scale the data as shown in:\n",
            "    https://scikit-learn.org/stable/modules/preprocessing.html\n",
            "  self.n_iter_ = _check_optimize_result(\"lbfgs\", opt_res, self.max_iter)\n"
          ]
        }
      ]
    },
    {
      "cell_type": "markdown",
      "metadata": {
        "id": "IgKaAa6qWU0O"
      },
      "source": [
        "In case you want to shut down your app, you will have to first check the process streamlit is running on and then kill that process. Stop execution of above cell and run below command.\n"
      ]
    },
    {
      "cell_type": "code",
      "metadata": {
        "id": "0cVBWeZeWTe_"
      },
      "source": [
        "!pgrep streamlit\n",
        "ngrok.kill()\n"
      ],
      "execution_count": 4,
      "outputs": []
    },
    {
      "cell_type": "markdown",
      "metadata": {
        "id": "IQT2pvapXGfO"
      },
      "source": [
        "Once you have stopped the above app, you can execute below chunk to run App-2\n"
      ]
    },
    {
      "cell_type": "markdown",
      "metadata": {
        "id": "OsT8POkpXUPQ"
      },
      "source": [
        "\n",
        "\n",
        "---\n",
        "### App-2 LFW Image PCA-App\n",
        "\n",
        "\n",
        "---\n",
        "\n"
      ]
    },
    {
      "cell_type": "code",
      "metadata": {
        "id": "LfpFD34fWuws",
        "outputId": "65d4a0f4-fec2-41f4-c999-1e24c91efc20",
        "colab": {
          "base_uri": "https://localhost:8080/"
        }
      },
      "source": [
        "public_url = ngrok.connect(port='80',bind_tls=True)\n",
        "print (public_url)\n",
        "!streamlit run --server.port 80 https://raw.githubusercontent.com/yogesh1612/MLP-intro-streamlit-app/main/lfw_image_pca.py >/dev/null"
      ],
      "execution_count": 5,
      "outputs": [
        {
          "output_type": "stream",
          "name": "stdout",
          "text": [
            "NgrokTunnel: \"https://fc50-35-245-146-200.ngrok.io\" -> \"http://localhost:80\"\n",
            "2022-03-10 05:09:35.865 INFO    numexpr.utils: NumExpr defaulting to 2 threads.\n",
            "2022-03-10 05:09:46.280 Downloading LFW metadata: https://ndownloader.figshare.com/files/5976012\n",
            "2022-03-10 05:09:47.111 Downloading LFW metadata: https://ndownloader.figshare.com/files/5976009\n",
            "2022-03-10 05:09:47.941 Downloading LFW metadata: https://ndownloader.figshare.com/files/5976006\n",
            "2022-03-10 05:09:48.931 Downloading LFW data (~200MB): https://ndownloader.figshare.com/files/5976015\n"
          ]
        }
      ]
    },
    {
      "cell_type": "markdown",
      "metadata": {
        "id": "CsYjyMKeYfMJ"
      },
      "source": [
        "#### If you want to stop the app then stop execution of above cell and then run below code"
      ]
    },
    {
      "cell_type": "code",
      "metadata": {
        "id": "HAlyDd07YeV8"
      },
      "source": [
        "!pgrep streamlit\n",
        "ngrok.kill()"
      ],
      "execution_count": 6,
      "outputs": []
    },
    {
      "cell_type": "markdown",
      "metadata": {
        "id": "yMrUfrrwi7LZ"
      },
      "source": [
        "\n",
        "\n",
        "---\n",
        "###App-3 Object Detection using YOLO\n",
        "\n",
        "\n",
        "---\n",
        "\n"
      ]
    },
    {
      "cell_type": "code",
      "metadata": {
        "id": "4XhoFEhLjAQc"
      },
      "source": [
        "# Download the YOLOv3 model’s configuration file and weights file.\n",
        "!wget -q https://pjreddie.com/media/files/yolov3.weights \n",
        "!wget -q https://raw.githubusercontent.com/pjreddie/darknet/master/cfg/yolov3.cfg \n",
        "#Download the file containing output labels of MS-COCO dataset (weblink).\n",
        "!wget -q https://raw.githubusercontent.com/pjreddie/darknet/master/data/coco.names "
      ],
      "execution_count": 7,
      "outputs": []
    },
    {
      "cell_type": "code",
      "metadata": {
        "id": "bsJHB86wja6e",
        "outputId": "570a07bb-1e0e-418e-b897-dec60eafab3f",
        "colab": {
          "base_uri": "https://localhost:8080/"
        }
      },
      "source": [
        "public_url = ngrok.connect(port='80',bind_tls=True)\n",
        "print (public_url)\n",
        "!streamlit run --server.port 80 https://raw.githubusercontent.com/yogesh1612/MLP-intro-streamlit-app/main/obj_detection_app.py >/dev/null"
      ],
      "execution_count": null,
      "outputs": [
        {
          "output_type": "stream",
          "name": "stdout",
          "text": [
            "NgrokTunnel: \"https://6c17-35-245-146-200.ngrok.io\" -> \"http://localhost:80\"\n",
            "2022-03-10 06:00:22.474 INFO    numexpr.utils: NumExpr defaulting to 2 threads.\n",
            "2022-03-10 06:00:46.688 Traceback (most recent call last):\n",
            "  File \"/usr/local/lib/python3.7/dist-packages/streamlit/script_runner.py\", line 430, in _run_script\n",
            "    exec(code, module.__dict__)\n",
            "  File \"/tmp/tmpc_9n0fes/obj_detection_app.py\", line 131, in <module>\n",
            "    main()\n",
            "  File \"/tmp/tmpc_9n0fes/obj_detection_app.py\", line 127, in main\n",
            "    my_img = Image.open(\"moi_office_desk.jpg\")\n",
            "  File \"/usr/local/lib/python3.7/dist-packages/PIL/Image.py\", line 2843, in open\n",
            "    fp = builtins.open(filename, \"rb\")\n",
            "FileNotFoundError: [Errno 2] No such file or directory: 'moi_office_desk.jpg'\n",
            "\n"
          ]
        }
      ]
    },
    {
      "cell_type": "markdown",
      "metadata": {
        "id": "YKCpxqBomCo6"
      },
      "source": [
        "#### If you want to stop the app then stop execution of above cell and then run below code"
      ]
    },
    {
      "cell_type": "code",
      "metadata": {
        "id": "l4XxQLHwmCo8"
      },
      "source": [
        "!pgrep streamlit\n",
        "ngrok.kill()"
      ],
      "execution_count": 9,
      "outputs": []
    },
    {
      "cell_type": "markdown",
      "metadata": {
        "id": "X8HUtUQdrv64"
      },
      "source": [
        "\n",
        "\n",
        "---\n",
        "\n",
        "###App-4 Realtime Object Detection App\n",
        "\n",
        "---\n",
        "\n"
      ]
    },
    {
      "cell_type": "code",
      "metadata": {
        "id": "9N5Qhw0_r1Xg"
      },
      "source": [
        "public_url = ngrok.connect(port='80',bind_tls=True)\n",
        "print (public_url)\n",
        "!streamlit run --server.port 80 https://raw.githubusercontent.com/whitphx/streamlit-webrtc-example/main/app.py >/dev/null\n"
      ],
      "execution_count": null,
      "outputs": []
    },
    {
      "cell_type": "code",
      "metadata": {
        "id": "GoGYpuvUsK4X"
      },
      "source": [
        "!pgrep streamlit\n",
        "ngrok.kill()"
      ],
      "execution_count": null,
      "outputs": []
    }
  ]
}